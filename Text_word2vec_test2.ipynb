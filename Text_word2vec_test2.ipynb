{
  "nbformat": 4,
  "nbformat_minor": 0,
  "metadata": {
    "colab": {
      "name": "Text_word2vec_test2.ipynb",
      "provenance": [],
      "collapsed_sections": [],
      "authorship_tag": "ABX9TyPhsK40CPH02FAyWZGXiULI",
      "include_colab_link": true
    },
    "kernelspec": {
      "name": "python3",
      "display_name": "Python 3"
    }
  },
  "cells": [
    {
      "cell_type": "markdown",
      "metadata": {
        "id": "view-in-github",
        "colab_type": "text"
      },
      "source": [
        "<a href=\"https://colab.research.google.com/github/chhak/DeepLearning/blob/master/Text_word2vec_test2.ipynb\" target=\"_parent\"><img src=\"https://colab.research.google.com/assets/colab-badge.svg\" alt=\"Open In Colab\"/></a>"
      ]
    },
    {
      "cell_type": "code",
      "metadata": {
        "id": "Du47UnB8UvTT",
        "colab_type": "code",
        "colab": {}
      },
      "source": [
        "pip install konlpy"
      ],
      "execution_count": null,
      "outputs": []
    },
    {
      "cell_type": "code",
      "metadata": {
        "id": "I5K0kCEYVBcv",
        "colab_type": "code",
        "colab": {}
      },
      "source": [
        "#구글 드라이브 연동\n",
        "from google.colab import drive\n",
        "drive.mount('/content/drive')"
      ],
      "execution_count": null,
      "outputs": []
    },
    {
      "cell_type": "code",
      "metadata": {
        "id": "TenBy5N9USpE",
        "colab_type": "code",
        "colab": {}
      },
      "source": [
        "\"\"\"\n",
        "날짜 : 2020/09/08\n",
        "이름 : 김철학\n",
        "내용 : 한글 Word2vec 실습하기\n",
        "\"\"\"\n",
        "\n",
        "import codecs\n",
        "from konlpy.tag import Okt\n",
        "from gensim.models import word2vec"
      ],
      "execution_count": null,
      "outputs": []
    },
    {
      "cell_type": "code",
      "metadata": {
        "id": "8_6H0LaHUrmh",
        "colab_type": "code",
        "colab": {}
      },
      "source": [
        "# 데이터셋 로드\n",
        "f = codecs.open('/content/drive/My Drive/Tensorflow_works/data/ratings_train.txt', mode='r', encoding='utf-8')\n",
        "lines = f.read().splitlines()\n",
        "f.close()"
      ],
      "execution_count": null,
      "outputs": []
    },
    {
      "cell_type": "code",
      "metadata": {
        "id": "T-PHQfTJVtYA",
        "colab_type": "code",
        "colab": {
          "base_uri": "https://localhost:8080/",
          "height": 34
        },
        "outputId": "69cfb1ff-a2d8-4c81-9efd-67445b5cbe6a"
      },
      "source": [
        "# 데이터 확인\n",
        "lines[1]"
      ],
      "execution_count": null,
      "outputs": [
        {
          "output_type": "execute_result",
          "data": {
            "application/vnd.google.colaboratory.intrinsic+json": {
              "type": "string"
            },
            "text/plain": [
              "'9976970\\t아 더빙.. 진짜 짜증나네요 목소리\\t0'"
            ]
          },
          "metadata": {
            "tags": []
          },
          "execution_count": 12
        }
      ]
    },
    {
      "cell_type": "code",
      "metadata": {
        "id": "-ZiAudrXWBF6",
        "colab_type": "code",
        "colab": {
          "base_uri": "https://localhost:8080/",
          "height": 69
        },
        "outputId": "50ed60c9-3ec7-400f-8c5c-cd2374e99264"
      },
      "source": [
        "# 데이터 전처리\n",
        "ratings_train = []\n",
        "\n",
        "for line in lines:\n",
        "  data = line.split('\\t')\n",
        "\n",
        "  ratings_train.append(data)\n",
        "\n",
        "# header정보 행 제거\n",
        "ratings_train = ratings_train[1:]\n",
        "\n",
        "docs = []\n",
        "for line in ratings_train:\n",
        "  docs.append(line[1])\n",
        "\n",
        "print(docs[0])  \n",
        "print(docs[1])\n",
        "print(docs[99])"
      ],
      "execution_count": null,
      "outputs": [
        {
          "output_type": "stream",
          "text": [
            "아 더빙.. 진짜 짜증나네요 목소리\n",
            "흠...포스터보고 초딩영화줄....오버연기조차 가볍지 않구나\n",
            "설정이 재밌고 새로운 에피소드 내에서 메인 스토리도 차차 나오는게 재밌음\n"
          ],
          "name": "stdout"
        }
      ]
    },
    {
      "cell_type": "code",
      "metadata": {
        "id": "LO1I_342Xh7z",
        "colab_type": "code",
        "colab": {
          "base_uri": "https://localhost:8080/",
          "height": 192
        },
        "outputId": "7a8fe31e-f409-417c-ddac-5c27eecc3777"
      },
      "source": [
        "# 데이터 형태소 분석\n",
        "okt = Okt()\n",
        "\n",
        "results = []\n",
        "\n",
        "for doc in docs:\n",
        "  okt_pos = okt.pos(doc, norm=True, stem=True)\n",
        "  #print(okt_pos)\n",
        "  row = []\n",
        "\n",
        "  for word in okt_pos:\n",
        "    row.append(word[0])\n",
        "\n",
        "  results.append(row)    \n",
        "\n",
        "print(results)"
      ],
      "execution_count": null,
      "outputs": [
        {
          "output_type": "stream",
          "text": [
            "IOPub data rate exceeded.\n",
            "The notebook server will temporarily stop sending output\n",
            "to the client in order to avoid crashing it.\n",
            "To change this limit, set the config variable\n",
            "`--NotebookApp.iopub_data_rate_limit`.\n",
            "\n",
            "Current values:\n",
            "NotebookApp.iopub_data_rate_limit=1000000.0 (bytes/sec)\n",
            "NotebookApp.rate_limit_window=3.0 (secs)\n",
            "\n"
          ],
          "name": "stderr"
        }
      ]
    },
    {
      "cell_type": "code",
      "metadata": {
        "id": "jvh8RKhNZTni",
        "colab_type": "code",
        "colab": {
          "base_uri": "https://localhost:8080/",
          "height": 34
        },
        "outputId": "e0e5f5bd-114d-4b8a-f982-f49cc2263e2b"
      },
      "source": [
        "# word2vec 모델 생성\n",
        "model = word2vec.Word2Vec(results)\n",
        "model"
      ],
      "execution_count": null,
      "outputs": [
        {
          "output_type": "execute_result",
          "data": {
            "text/plain": [
              "<gensim.models.word2vec.Word2Vec at 0x7f94bfc8b3c8>"
            ]
          },
          "metadata": {
            "tags": []
          },
          "execution_count": 19
        }
      ]
    },
    {
      "cell_type": "code",
      "metadata": {
        "id": "yepZsAm-aeUU",
        "colab_type": "code",
        "colab": {
          "base_uri": "https://localhost:8080/",
          "height": 107
        },
        "outputId": "dbd52458-b26d-43ef-8ae8-8fe69b16fc80"
      },
      "source": [
        "# 단어 연관성 확인\n",
        "rs1 = model.wv.most_similar(positive=['남자', '여배우'],\n",
        "                            negative=['배우'])\n",
        "\n",
        "rs2 = model.wv.most_similar(positive=['정우성', '조인성'])\n",
        "\n",
        "print('rs1 :', rs1)\n",
        "print('rs2 :', rs2)"
      ],
      "execution_count": null,
      "outputs": [
        {
          "output_type": "stream",
          "text": [
            "rs1 : [('여자', 0.8308213949203491), ('여자애', 0.7304311990737915), ('고양이', 0.6893009543418884), ('꼬마', 0.6874380111694336), ('아저씨', 0.6787805557250977), ('엄마', 0.6703262329101562), ('아빠', 0.666801929473877), ('아줌마', 0.661256730556488), ('아기', 0.659339189529419), ('할아버지', 0.6544778943061829)]\n",
            "rs2 : [('이민정', 0.8746153116226196), ('양자경', 0.8744334578514099), ('정재영', 0.8733302354812622), ('콜린', 0.8716702461242676), ('강동원', 0.8707751035690308), ('리즈시절', 0.8685967922210693), ('고소영', 0.8675022125244141), ('전도연', 0.8660828471183777), ('임수정', 0.8658462762832642), ('스트립', 0.8657622933387756)]\n"
          ],
          "name": "stdout"
        },
        {
          "output_type": "stream",
          "text": [
            "/usr/local/lib/python3.6/dist-packages/gensim/matutils.py:737: FutureWarning: Conversion of the second argument of issubdtype from `int` to `np.signedinteger` is deprecated. In future, it will be treated as `np.int64 == np.dtype(int).type`.\n",
            "  if np.issubdtype(vec.dtype, np.int):\n"
          ],
          "name": "stderr"
        }
      ]
    },
    {
      "cell_type": "code",
      "metadata": {
        "id": "H4cFLmq1d1GC",
        "colab_type": "code",
        "colab": {}
      },
      "source": [
        ""
      ],
      "execution_count": null,
      "outputs": []
    }
  ]
}