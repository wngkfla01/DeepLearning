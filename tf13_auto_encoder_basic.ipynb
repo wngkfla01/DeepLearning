{
  "nbformat": 4,
  "nbformat_minor": 0,
  "metadata": {
    "colab": {
      "name": "tf13_auto_encoder_basic.ipynb",
      "provenance": [],
      "collapsed_sections": [],
      "authorship_tag": "ABX9TyN+/nZ/n05AYkqyW7aE2zFX",
      "include_colab_link": true
    },
    "kernelspec": {
      "name": "python3",
      "display_name": "Python 3"
    },
    "accelerator": "TPU"
  },
  "cells": [
    {
      "cell_type": "markdown",
      "metadata": {
        "id": "view-in-github",
        "colab_type": "text"
      },
      "source": [
        "<a href=\"https://colab.research.google.com/github/chhak/DeepLearning/blob/master/tf13_auto_encoder_basic.ipynb\" target=\"_parent\"><img src=\"https://colab.research.google.com/assets/colab-badge.svg\" alt=\"Open In Colab\"/></a>"
      ]
    },
    {
      "cell_type": "code",
      "metadata": {
        "id": "iyrl-a3oBmNx",
        "colab_type": "code",
        "colab": {
          "base_uri": "https://localhost:8080/",
          "height": 35
        },
        "outputId": "e9b9c382-12e3-41bf-8f30-a210b9a40dfc"
      },
      "source": [
        "\"\"\"\n",
        "날짜 : 2020/08/25\n",
        "이름 : 김철학\n",
        "내용 : 딥러닝 오토인코더(AutoEncoder) 개념 실습하기\n",
        "\"\"\"\n",
        "\n",
        "import numpy as np\n",
        "import tensorflow as tf\n",
        "import matplotlib.pyplot as plt\n",
        "from tensorflow.keras.layers import Input, Dense\n",
        "from tensorflow.keras.models import Model\n",
        "\n",
        "tf.__version__"
      ],
      "execution_count": null,
      "outputs": [
        {
          "output_type": "execute_result",
          "data": {
            "application/vnd.google.colaboratory.intrinsic+json": {
              "type": "string"
            },
            "text/plain": [
              "'2.3.0'"
            ]
          },
          "metadata": {
            "tags": []
          },
          "execution_count": 31
        }
      ]
    },
    {
      "cell_type": "code",
      "metadata": {
        "id": "0CshESiADkab",
        "colab_type": "code",
        "colab": {
          "base_uri": "https://localhost:8080/",
          "height": 35
        },
        "outputId": "6d3318bb-6235-442b-f173-2958b4f5a220"
      },
      "source": [
        "# MNIST 데이터셋 로드\n",
        "(x_train, y_train), (x_test, y_test) = tf.keras.datasets.mnist.load_data()\n",
        "x_train.shape, y_train.shape"
      ],
      "execution_count": null,
      "outputs": [
        {
          "output_type": "execute_result",
          "data": {
            "text/plain": [
              "((60000, 28, 28), (60000,))"
            ]
          },
          "metadata": {
            "tags": []
          },
          "execution_count": 32
        }
      ]
    },
    {
      "cell_type": "code",
      "metadata": {
        "id": "ATJMgg-bEEtF",
        "colab_type": "code",
        "colab": {
          "base_uri": "https://localhost:8080/",
          "height": 35
        },
        "outputId": "c96adf1e-89d0-4e73-dbfb-05240ebe4862"
      },
      "source": [
        "# 데이터 전처리\n",
        "x_train = x_train.reshape(-1, 28 * 28) / 255.0\n",
        "x_test = x_test.reshape(-1, 28 * 28) / 255.0\n",
        "\n",
        "x_train.shape"
      ],
      "execution_count": null,
      "outputs": [
        {
          "output_type": "execute_result",
          "data": {
            "text/plain": [
              "(60000, 784)"
            ]
          },
          "metadata": {
            "tags": []
          },
          "execution_count": 33
        }
      ]
    },
    {
      "cell_type": "code",
      "metadata": {
        "id": "JmnlP3uSFXxr",
        "colab_type": "code",
        "colab": {
          "base_uri": "https://localhost:8080/",
          "height": 265
        },
        "outputId": "ae23be54-7443-4afd-f114-3d7b12b3e3e2"
      },
      "source": [
        "# 오토인코더 모델 구성\n",
        "inputs = Input(shape=(784,))\n",
        "hidden = Dense(32, activation='relu')(inputs)\n",
        "outputs = Dense(784, activation='sigmoid')(hidden)\n",
        "\n",
        "auto_encoder = Model(inputs, outputs)\n",
        "auto_encoder.summary()"
      ],
      "execution_count": null,
      "outputs": [
        {
          "output_type": "stream",
          "text": [
            "Model: \"functional_11\"\n",
            "_________________________________________________________________\n",
            "Layer (type)                 Output Shape              Param #   \n",
            "=================================================================\n",
            "input_7 (InputLayer)         [(None, 784)]             0         \n",
            "_________________________________________________________________\n",
            "dense_10 (Dense)             (None, 2)                 1570      \n",
            "_________________________________________________________________\n",
            "dense_11 (Dense)             (None, 784)               2352      \n",
            "=================================================================\n",
            "Total params: 3,922\n",
            "Trainable params: 3,922\n",
            "Non-trainable params: 0\n",
            "_________________________________________________________________\n"
          ],
          "name": "stdout"
        }
      ]
    },
    {
      "cell_type": "code",
      "metadata": {
        "id": "5yKFnOscGQJX",
        "colab_type": "code",
        "colab": {
          "base_uri": "https://localhost:8080/",
          "height": 389
        },
        "outputId": "ba46099e-f1f8-4507-bba0-545d78860f67"
      },
      "source": [
        "# 모델 설정/학습하기\n",
        "auto_encoder.compile(optimizer='adam', loss='binary_crossentropy')\n",
        "auto_encoder.fit(x_train,\n",
        "                 x_train, \n",
        "                 epochs=10,\n",
        "                 batch_size=256)"
      ],
      "execution_count": null,
      "outputs": [
        {
          "output_type": "stream",
          "text": [
            "Epoch 1/10\n",
            "235/235 [==============================] - 3s 11ms/step - loss: 0.2658\n",
            "Epoch 2/10\n",
            "235/235 [==============================] - 2s 11ms/step - loss: 0.2482\n",
            "Epoch 3/10\n",
            "235/235 [==============================] - 3s 11ms/step - loss: 0.2442\n",
            "Epoch 4/10\n",
            "235/235 [==============================] - 3s 11ms/step - loss: 0.2420\n",
            "Epoch 5/10\n",
            "235/235 [==============================] - 3s 12ms/step - loss: 0.2404\n",
            "Epoch 6/10\n",
            "235/235 [==============================] - 3s 11ms/step - loss: 0.2391\n",
            "Epoch 7/10\n",
            "235/235 [==============================] - 2s 10ms/step - loss: 0.2379\n",
            "Epoch 8/10\n",
            "235/235 [==============================] - 2s 10ms/step - loss: 0.2369\n",
            "Epoch 9/10\n",
            "235/235 [==============================] - 3s 11ms/step - loss: 0.2359\n",
            "Epoch 10/10\n",
            "235/235 [==============================] - 3s 12ms/step - loss: 0.2351\n"
          ],
          "name": "stdout"
        },
        {
          "output_type": "execute_result",
          "data": {
            "text/plain": [
              "<tensorflow.python.keras.callbacks.History at 0x7effd49aca58>"
            ]
          },
          "metadata": {
            "tags": []
          },
          "execution_count": 43
        }
      ]
    },
    {
      "cell_type": "code",
      "metadata": {
        "id": "LUXwyVMCH8rJ",
        "colab_type": "code",
        "colab": {
          "base_uri": "https://localhost:8080/",
          "height": 247
        },
        "outputId": "c4f13c80-1db1-441a-d918-40a297a644d5"
      },
      "source": [
        "# 예측하기\n",
        "result = auto_encoder.predict(x_test)\n",
        "result"
      ],
      "execution_count": null,
      "outputs": [
        {
          "output_type": "execute_result",
          "data": {
            "text/plain": [
              "array([[7.7074110e-05, 4.0923991e-05, 5.6259705e-05, ..., 1.8938345e-05,\n",
              "        6.3365762e-05, 2.2682548e-04],\n",
              "       [3.1198375e-08, 5.4407634e-09, 7.2578395e-08, ..., 2.7362366e-09,\n",
              "        2.2459478e-08, 1.6601608e-07],\n",
              "       [1.9898971e-09, 3.2527578e-10, 2.9702814e-09, ..., 1.0692834e-10,\n",
              "        1.3363182e-09, 1.5954035e-08],\n",
              "       ...,\n",
              "       [2.4488467e-10, 3.6749749e-11, 2.8652647e-10, ..., 9.1911088e-12,\n",
              "        1.5636967e-10, 2.6232896e-09],\n",
              "       [2.6196596e-09, 4.1654699e-10, 4.4667177e-09, ..., 1.4979668e-10,\n",
              "        1.7756906e-09, 1.9742432e-08],\n",
              "       [1.5494230e-09, 1.9686572e-10, 4.2133514e-09, ..., 8.7601072e-11,\n",
              "        1.0517629e-09, 1.1084982e-08]], dtype=float32)"
            ]
          },
          "metadata": {
            "tags": []
          },
          "execution_count": 44
        }
      ]
    },
    {
      "cell_type": "code",
      "metadata": {
        "id": "LhzTDTYwIc2b",
        "colab_type": "code",
        "colab": {
          "base_uri": "https://localhost:8080/",
          "height": 230
        },
        "outputId": "a175defd-a688-43d4-97b4-d8126a767ce3"
      },
      "source": [
        "# 예측값 이미지 출력\n",
        "plt.figure(figsize=(20, 4))\n",
        "\n",
        "for i in range(10):\n",
        "  # original image\n",
        "  ax = plt.subplot(2, 10, i+1)\n",
        "  ax.set_title('original Image')\n",
        "  plt.imshow(x_test[i].reshape(28, 28))\n",
        "  plt.gray()\n",
        "  ax.get_xaxis().set_visible(False)\n",
        "  ax.get_yaxis().set_visible(False)\n",
        "\n",
        "  # result image\n",
        "  ax = plt.subplot(2, 10, i+11)\n",
        "  ax.set_title('result Image')\n",
        "  plt.imshow(result[i].reshape(28, 28))\n",
        "  plt.gray()\n",
        "  ax.get_xaxis().set_visible(False)\n",
        "  ax.get_yaxis().set_visible(False)"
      ],
      "execution_count": null,
      "outputs": [
        {
          "output_type": "display_data",
          "data": {
            "image/png": "[encoded data removed]",
            "text/plain": [
              "<Figure size 1440x288 with 20 Axes>"
            ]
          },
          "metadata": {
            "tags": [],
            "needs_background": "light"
          }
        }
      ]
    },
    {
      "cell_type": "code",
      "metadata": {
        "id": "5hJVIpiAJRuL",
        "colab_type": "code",
        "colab": {}
      },
      "source": [
        ""
      ],
      "execution_count": null,
      "outputs": []
    }
  ]
}