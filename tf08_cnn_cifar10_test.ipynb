{
  "nbformat": 4,
  "nbformat_minor": 0,
  "metadata": {
    "colab": {
      "name": "tf08_cnn_cifar10_test.ipynb",
      "provenance": [],
      "collapsed_sections": [],
      "authorship_tag": "ABX9TyPERrU2GLpqiNGLOIWcxiEw",
      "include_colab_link": true
    },
    "kernelspec": {
      "name": "python3",
      "display_name": "Python 3"
    },
    "accelerator": "GPU"
  },
  "cells": [
    {
      "cell_type": "markdown",
      "metadata": {
        "id": "view-in-github",
        "colab_type": "text"
      },
      "source": [
        "<a href=\"https://colab.research.google.com/github/chhak/DeepLearning/blob/master/tf08_cnn_cifar10_test.ipynb\" target=\"_parent\"><img src=\"https://colab.research.google.com/assets/colab-badge.svg\" alt=\"Open In Colab\"/></a>"
      ]
    },
    {
      "cell_type": "code",
      "metadata": {
        "id": "NbOSWccDdV3X",
        "colab_type": "code",
        "colab": {}
      },
      "source": [
        "\"\"\"\n",
        "날짜 : 2020/08/19\n",
        "이름 : 김철학\n",
        "내용 : 딥러닝 cifar10 CNN 이미지 분류 실습하기\n",
        "\"\"\"\n",
        "import matplotlib.pyplot as plt\n",
        "import numpy as np\n",
        "from tensorflow.keras.datasets.cifar10 import load_data\n",
        "from tensorflow.keras.utils import to_categorical\n",
        "from tensorflow.keras.models import Sequential\n",
        "from tensorflow.keras.layers import Dense, Flatten, Conv2D, MaxPool2D, Dropout\n",
        "from sklearn.model_selection import train_test_split\n",
        "from PIL import Image #파이썬 이미지 처리 라이브러리\n",
        "tf.__version__"
      ],
      "execution_count": null,
      "outputs": []
    },
    {
      "cell_type": "code",
      "metadata": {
        "id": "HbePQAeDdikg",
        "colab_type": "code",
        "colab": {
          "base_uri": "https://localhost:8080/",
          "height": 176
        },
        "outputId": "02cd7e5c-a393-4425-dbe7-6f6fd052fc89"
      },
      "source": [
        "#학습데이터 로드\n",
        "(cifar_train_data, cifar_train_label), (cifar_test_data, cifar_test_label) = load_data()\n",
        "\n",
        "#데이터 형태 확인\n",
        "print(cifar_train_data.shape, cifar_train_label.shape)\n",
        "print(cifar_test_data.shape, cifar_test_label.shape)\n",
        "print(cifar_train_label)"
      ],
      "execution_count": null,
      "outputs": [
        {
          "output_type": "stream",
          "text": [
            "(50000, 32, 32, 3) (50000, 1)\n",
            "(10000, 32, 32, 3) (10000, 1)\n",
            "[[6]\n",
            " [9]\n",
            " [9]\n",
            " ...\n",
            " [9]\n",
            " [1]\n",
            " [1]]\n"
          ],
          "name": "stdout"
        }
      ]
    },
    {
      "cell_type": "code",
      "metadata": {
        "id": "fssrH7uldiv3",
        "colab_type": "code",
        "colab": {}
      },
      "source": [
        "#데이터 샘플 이미지 출력\n",
        "class_names = ['Airplane', 'Automobile', 'Bird', 'Cat', 'Deer', 'Dog', 'Frog', 'Horse', 'Ship', 'Truck']\n",
        "random_idx = np.random.randint(50000, size=9)\n",
        "print(random_idx)\n",
        "\n",
        "plt.figure(figsize=(5, 5))\n",
        "\n",
        "for i, idx in enumerate(random_idx):\n",
        "  plt.subplot(3, 3, i+1)\n",
        "  plt.xticks([])\n",
        "  plt.yticks([])\n",
        "  label = cifar_train_label[idx][0]\n",
        "  plt.imshow(cifar_train_data[idx, :])\n",
        "  plt.title('%s' % class_names[label])\n"
      ],
      "execution_count": null,
      "outputs": []
    },
    {
      "cell_type": "code",
      "metadata": {
        "id": "eNWQ9otTdi4A",
        "colab_type": "code",
        "colab": {
          "base_uri": "https://localhost:8080/",
          "height": 52
        },
        "outputId": "3ec78dd7-3bbf-4c98-b3de-51ce3aae5015"
      },
      "source": [
        "#데이터셋 분할하기\n",
        "train_data, test_data, train_label, test_label = train_test_split(cifar_train_data, cifar_train_label)\n",
        "print('훈련 데이터 :', train_data.shape)\n",
        "print('검증 데이터 :', test_data.shape)"
      ],
      "execution_count": null,
      "outputs": [
        {
          "output_type": "stream",
          "text": [
            "훈련 데이터 : (37500, 32, 32, 3)\n",
            "검증 데이터 : (12500, 32, 32, 3)\n"
          ],
          "name": "stdout"
        }
      ]
    },
    {
      "cell_type": "code",
      "metadata": {
        "id": "HlxC6c6udjAK",
        "colab_type": "code",
        "colab": {}
      },
      "source": [
        "#모델학습을 위한 데이터 전처리(정규화)\n",
        "\n",
        "#방법1 : 픽셀데이터를 0 ~ 1 사이로 초기화 하는 정규화 -> 정확도 낮음\n",
        "#train_data = train_data / 255\n",
        "#test_data = test_data / 255\n",
        "#mnist_test_data = mnist_test_data / 255\n",
        "\n",
        "#방법2 : 픽셀데이터를 평균과 표준편차를 이용한 정규화 -> 정확도 높이\n",
        "mean = np.mean(train_data, axis=(0, 1, 2))\n",
        "std = np.std(train_data, axis=(0, 1, 2))\n",
        "\n",
        "train_data = (train_data - mean) / std\n",
        "test_data = (test_data - mean) / std\n",
        "cifar_test_data = (cifar_test_data - mean) / std\n",
        "\n",
        "#각 데이터의 레이블을 범주형(One-hot encoding) 형태로 변환\n",
        "train_label = to_categorical(train_label)\n",
        "test_label = to_categorical(test_label)\n",
        "cifar_test_label = to_categorical(cifar_test_label)"
      ],
      "execution_count": null,
      "outputs": []
    },
    {
      "cell_type": "code",
      "metadata": {
        "id": "m7z2kVqEdjHX",
        "colab_type": "code",
        "colab": {}
      },
      "source": [
        "#학습모델 구성하기\n",
        "model = Sequential()\n",
        "\n",
        "#CNN층\n",
        "model.add(Conv2D(filters=32, kernel_size=3, padding='same', activation='relu', input_shape=(32, 32, 3)))\n",
        "model.add(Conv2D(filters=32, kernel_size=3, padding='same', activation='relu'))\n",
        "model.add(MaxPool2D(pool_size=(2, 2), strides=2, padding='same'))\n",
        "model.add(Dropout(0.2)) #과대적합 문제 해결을 위한 Dropout 기법\n",
        "\n",
        "model.add(Conv2D(filters=64, kernel_size=3, padding='same', activation='relu'))\n",
        "model.add(Conv2D(filters=64, kernel_size=3, padding='same', activation='relu'))\n",
        "model.add(MaxPool2D(pool_size=(2, 2), strides=2, padding='same'))\n",
        "model.add(Dropout(0.2)) #과대적합 문제 해결을 위한 Dropout 기법\n",
        "\n",
        "model.add(Conv2D(filters=128, kernel_size=3, padding='same', activation='relu'))\n",
        "model.add(Conv2D(filters=128, kernel_size=3, padding='same', activation='relu'))\n",
        "model.add(MaxPool2D(pool_size=(2, 2), strides=2, padding='same'))\n",
        "model.add(Dropout(0.2)) #과대적합 문제 해결을 위한 Dropout 기법\n",
        "\n",
        "#FCNN(Full Connection Neural Network, 완전 연결층)\n",
        "model.add(Flatten()) #입력층\n",
        "model.add(Dense(256, activation='relu'))  #은닉층\n",
        "model.add(Dense(10, activation='softmax')) #출력층\n",
        "\n",
        "#모델 요약 확인\n",
        "model.summary()"
      ],
      "execution_count": null,
      "outputs": []
    },
    {
      "cell_type": "code",
      "metadata": {
        "id": "cDDcl-h2djPR",
        "colab_type": "code",
        "colab": {}
      },
      "source": [
        "#학습모델 설정하기\n",
        "model.compile(optimizer='adam',\n",
        "              loss='categorical_crossentropy',\n",
        "              metrics=['acc'])"
      ],
      "execution_count": null,
      "outputs": []
    },
    {
      "cell_type": "code",
      "metadata": {
        "id": "FwvYIAQedjW2",
        "colab_type": "code",
        "colab": {}
      },
      "source": [
        "#학습하기\n",
        "model.fit(train_data,\n",
        "          train_label,\n",
        "          epochs=30,\n",
        "          batch_size=32,\n",
        "          validation_data=(test_data, test_label))\n"
      ],
      "execution_count": null,
      "outputs": []
    },
    {
      "cell_type": "code",
      "metadata": {
        "id": "eNZEKUirdjd5",
        "colab_type": "code",
        "colab": {}
      },
      "source": [
        "#평가하기\n",
        "#학습할 때의 정확도와 평가할때 정확도가 차이나면 과적합을 의심\n",
        "model.evaluate(cifar_test_data, cifar_test_label)"
      ],
      "execution_count": null,
      "outputs": []
    },
    {
      "cell_type": "code",
      "metadata": {
        "id": "NcNFMXiKdjkW",
        "colab_type": "code",
        "colab": {
          "base_uri": "https://localhost:8080/",
          "height": 35
        },
        "outputId": "4cdfeb13-09d3-4804-faf9-e2bd042a5c27"
      },
      "source": [
        "#테스트하기\n",
        "result = model.predict(cifar_test_data)\n",
        "\n",
        "from sklearn.metrics import accuracy_score\n",
        "score = accuracy_score(result.round(), cifar_test_label)\n",
        "print('점수 :', score)\n",
        "\n",
        "for i in range(9):\n",
        "  print('i=> ', i)\n",
        "  print(\"결과 :\", result[i].round())\n",
        "  print('정답 :', cifar_test_label[i])\n",
        "  \n",
        "plt.figure(figsize=(5, 5))\n",
        "\n",
        "for i in range(9):\n",
        "  plt.subplot(3, 3, i+1)\n",
        "  plt.xticks([])\n",
        "  plt.yticks([])\n",
        "  plt.imshow(cifar_test_data_for_test[i])\n",
        "plt.show()"
      ],
      "execution_count": null,
      "outputs": [
        {
          "output_type": "stream",
          "text": [
            "점수 : 0.7496\n"
          ],
          "name": "stdout"
        }
      ]
    }
  ]
}