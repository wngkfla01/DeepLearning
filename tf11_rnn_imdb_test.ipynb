{
  "nbformat": 4,
  "nbformat_minor": 0,
  "metadata": {
    "colab": {
      "name": "tf11_rnn_imdb_test.ipynb",
      "provenance": [],
      "collapsed_sections": [],
      "authorship_tag": "ABX9TyMzbYLLXvQKKXa64Sjb4CXI",
      "include_colab_link": true
    },
    "kernelspec": {
      "name": "python3",
      "display_name": "Python 3"
    }
  },
  "cells": [
    {
      "cell_type": "markdown",
      "metadata": {
        "id": "view-in-github",
        "colab_type": "text"
      },
      "source": [
        "<a href=\"https://colab.research.google.com/github/chhak/DeepLearning/blob/master/tf11_rnn_imdb_test.ipynb\" target=\"_parent\"><img src=\"https://colab.research.google.com/assets/colab-badge.svg\" alt=\"Open In Colab\"/></a>"
      ]
    },
    {
      "cell_type": "code",
      "metadata": {
        "id": "F5EhDNTI_yQJ",
        "colab_type": "code",
        "colab": {}
      },
      "source": [
        "\"\"\"\n",
        "내용 : imdb 데이터셋 RNN 학습 실습\n",
        "\"\"\"\n",
        "import tensorflow as tf\n",
        "from tensorflow.keras.preprocessing.text import Tokenizer\n",
        "from tensorflow.keras.preprocessing.sequence import pad_sequences\n",
        "from tensorflow.keras.utils import to_categorical\n",
        "from tensorflow.keras.datasets import imdb\n",
        "\n",
        "from tensorflow.keras.models import Sequential\n",
        "from tensorflow.keras.layers import SimpleRNN, Dense, Embedding, Flatten\n",
        "tf.__version__"
      ],
      "execution_count": null,
      "outputs": []
    },
    {
      "cell_type": "code",
      "metadata": {
        "id": "88NAsb1T_207",
        "colab_type": "code",
        "colab": {}
      },
      "source": [
        "#데이터셋 로드하기\n",
        "#imdb(Internet Movie Database) : 인터넷 영화 DB에서 수집한 영화 리뷰 데이터, 전처리(정규화)된 상태로 제공\n",
        "(imdb_train_data, imdb_train_label), (imdb_test_data, imdb_test_label) = imdb.load_data(num_words=10000)"
      ],
      "execution_count": null,
      "outputs": []
    },
    {
      "cell_type": "code",
      "metadata": {
        "id": "2_VDVrIH_2wa",
        "colab_type": "code",
        "colab": {}
      },
      "source": [
        "#데이터 형태, 확인하기\n",
        "print(imdb_train_data.shape, imdb_train_label.shape)\n",
        "print(imdb_test_data.shape, imdb_test_label.shape)\n",
        "print('data :', imdb_train_data[0])\n",
        "print('label :', imdb_train_label[0]) # 1:긍정, 0:부정"
      ],
      "execution_count": null,
      "outputs": []
    },
    {
      "cell_type": "code",
      "metadata": {
        "id": "GwgE9XvRB_7V",
        "colab_type": "code",
        "colab": {
          "base_uri": "https://localhost:8080/",
          "height": 91
        },
        "outputId": "22439a3e-f25e-4c0f-9c95-175eff01345f"
      },
      "source": [
        "#시퀀스 데이터 문장으로 변환하기\n",
        "imdb_get_word_index = {}\n",
        "\n",
        "for word, value in imdb.get_word_index().items():\n",
        "  imdb_get_word_index[value] = word\n",
        "\n",
        "for w in imdb_train_data[0]:\n",
        "  print(imdb_get_word_index[w], end=' ')\n"
      ],
      "execution_count": null,
      "outputs": [
        {
          "output_type": "stream",
          "text": [
            "Downloading data from https://storage.googleapis.com/tensorflow/tf-keras-datasets/imdb_word_index.json\n",
            "1646592/1641221 [==============================] - 0s 0us/step\n",
            "the as you with out themselves powerful lets loves their becomes reaching had journalist of lot from anyone to have after out atmosphere never more room and it so heart shows to years of every never going and help moments or of every chest visual movie except her was several of enough more with is now current film as you of mine potentially unfortunately of you than him that with out themselves her get for was camp of you movie sometimes movie that with scary but and to story wonderful that in seeing in character to of 70s musicians with heart had shadows they of here that with her serious to have does when from why what have critics they is you that isn't one will very to as itself with other and in of seen over landed for anyone of and br show's to whether from than out themselves history he name half some br of and odd was two most of mean for 1 any an boat she he should is thought frog but of script you not while history he heart to real at barrel but when from one bit then have two of script their with her nobody most that with wasn't to with armed acting watch an for with heartfelt film want an "
          ],
          "name": "stdout"
        }
      ]
    },
    {
      "cell_type": "code",
      "metadata": {
        "id": "76iBpdH-DV0a",
        "colab_type": "code",
        "colab": {
          "base_uri": "https://localhost:8080/",
          "height": 89
        },
        "outputId": "8308572d-f65c-4411-f090-fa6d8177ea2e"
      },
      "source": [
        "#데이터를 동일한 길이로 맞추기\n",
        "print('패딩 전 :', len(imdb_train_data[0])) #218\n",
        "print('패딩 전 :', len(imdb_train_data[3])) #550\n",
        "\n",
        "pad_imdb_train_data = pad_sequences(imdb_train_data, maxlen=500, padding='pre')\n",
        "pad_imdb_test_data = pad_sequences(imdb_test_data, maxlen=500, padding='pre')\n",
        "\n",
        "print('패딩 후 :', len(pad_imdb_train_data[0])) #500\n",
        "print('패딩 후 :', len(pad_imdb_test_data[3]))  #500"
      ],
      "execution_count": null,
      "outputs": [
        {
          "output_type": "stream",
          "text": [
            "패딩 전 : 218\n",
            "패딩 전 : 550\n",
            "패딩 후 : 500\n",
            "패딩 후 : 500\n"
          ],
          "name": "stdout"
        }
      ]
    },
    {
      "cell_type": "code",
      "metadata": {
        "id": "i5NqO5tBIKTp",
        "colab_type": "code",
        "colab": {
          "base_uri": "https://localhost:8080/",
          "height": 305
        },
        "outputId": "ce436fc7-05ac-488b-f4e3-f012da5e7fad"
      },
      "source": [
        "#모델 구성하기\n",
        "model = Sequential()\n",
        "model.add(Embedding(input_dim=10000, output_dim=32))\n",
        "model.add(SimpleRNN(32, return_sequences=True, dropout=0.15, recurrent_dropout=0.15))\n",
        "model.add(SimpleRNN(32))\n",
        "\n",
        "model.add(Dense(1, activation='sigmoid'))\n",
        "\n",
        "model.compile(optimizer='adam',\n",
        "              loss='binary_crossentropy',\n",
        "              metrics=['acc'])\n",
        "\n",
        "model.summary()"
      ],
      "execution_count": null,
      "outputs": [
        {
          "output_type": "stream",
          "text": [
            "Model: \"sequential_1\"\n",
            "_________________________________________________________________\n",
            "Layer (type)                 Output Shape              Param #   \n",
            "=================================================================\n",
            "embedding_1 (Embedding)      (None, None, 32)          320000    \n",
            "_________________________________________________________________\n",
            "simple_rnn (SimpleRNN)       (None, None, 32)          2080      \n",
            "_________________________________________________________________\n",
            "simple_rnn_1 (SimpleRNN)     (None, 32)                2080      \n",
            "_________________________________________________________________\n",
            "dense (Dense)                (None, 1)                 33        \n",
            "=================================================================\n",
            "Total params: 324,193\n",
            "Trainable params: 324,193\n",
            "Non-trainable params: 0\n",
            "_________________________________________________________________\n"
          ],
          "name": "stdout"
        }
      ]
    },
    {
      "cell_type": "code",
      "metadata": {
        "id": "T9W6BFfQIMYk",
        "colab_type": "code",
        "colab": {
          "base_uri": "https://localhost:8080/",
          "height": 395
        },
        "outputId": "846d3001-cca9-45bb-bc5f-703bf640b47f"
      },
      "source": [
        "#모델 학습하기(시간 오래걸림)\n",
        "model.fit(pad_imdb_train_data, \n",
        "          imdb_train_label,\n",
        "          batch_size = 32,\n",
        "          epochs = 10,\n",
        "          validation_split = 0.2)"
      ],
      "execution_count": null,
      "outputs": [
        {
          "output_type": "stream",
          "text": [
            "Epoch 1/10\n",
            "625/625 [==============================] - 120s 192ms/step - loss: 0.6906 - acc: 0.5334 - val_loss: 0.7317 - val_acc: 0.6034\n",
            "Epoch 2/10\n",
            "625/625 [==============================] - 121s 193ms/step - loss: 0.5893 - acc: 0.6783 - val_loss: 0.4420 - val_acc: 0.8110\n",
            "Epoch 3/10\n",
            "625/625 [==============================] - 122s 195ms/step - loss: 0.4547 - acc: 0.7961 - val_loss: 0.4939 - val_acc: 0.7938\n",
            "Epoch 4/10\n",
            "625/625 [==============================] - 120s 193ms/step - loss: 0.4140 - acc: 0.8199 - val_loss: 0.4825 - val_acc: 0.8014\n",
            "Epoch 5/10\n",
            "625/625 [==============================] - 120s 192ms/step - loss: 0.4193 - acc: 0.8165 - val_loss: 0.4713 - val_acc: 0.8042\n",
            "Epoch 6/10\n",
            "625/625 [==============================] - 120s 192ms/step - loss: 0.3585 - acc: 0.8507 - val_loss: 0.4921 - val_acc: 0.8134\n",
            "Epoch 7/10\n",
            "625/625 [==============================] - 120s 192ms/step - loss: 0.3410 - acc: 0.8616 - val_loss: 0.9509 - val_acc: 0.5870\n",
            "Epoch 8/10\n",
            "625/625 [==============================] - 120s 192ms/step - loss: 0.3316 - acc: 0.8638 - val_loss: 0.5096 - val_acc: 0.8112\n",
            "Epoch 9/10\n",
            "625/625 [==============================] - 120s 192ms/step - loss: 0.3131 - acc: 0.8723 - val_loss: 0.5409 - val_acc: 0.8016\n",
            "Epoch 10/10\n",
            "625/625 [==============================] - 120s 192ms/step - loss: 0.2795 - acc: 0.8918 - val_loss: 0.5276 - val_acc: 0.8094\n"
          ],
          "name": "stdout"
        },
        {
          "output_type": "execute_result",
          "data": {
            "text/plain": [
              "<tensorflow.python.keras.callbacks.History at 0x7f1db84716d8>"
            ]
          },
          "metadata": {
            "tags": []
          },
          "execution_count": 9
        }
      ]
    },
    {
      "cell_type": "code",
      "metadata": {
        "id": "CVr-7eL7IQlW",
        "colab_type": "code",
        "colab": {
          "base_uri": "https://localhost:8080/",
          "height": 53
        },
        "outputId": "b1536b4d-4b62-441b-dde3-6dacc67cd792"
      },
      "source": [
        "#모델 평가하기\n",
        "model.evaluate(pad_imdb_test_data, imdb_test_label)"
      ],
      "execution_count": null,
      "outputs": [
        {
          "output_type": "stream",
          "text": [
            "782/782 [==============================] - 31s 40ms/step - loss: 0.5404 - acc: 0.7990\n"
          ],
          "name": "stdout"
        },
        {
          "output_type": "execute_result",
          "data": {
            "text/plain": [
              "[0.540431022644043, 0.7990000247955322]"
            ]
          },
          "metadata": {
            "tags": []
          },
          "execution_count": 10
        }
      ]
    },
    {
      "cell_type": "code",
      "metadata": {
        "id": "duziMUSJSsia",
        "colab_type": "code",
        "colab": {}
      },
      "source": [
        ""
      ],
      "execution_count": null,
      "outputs": []
    }
  ]
}