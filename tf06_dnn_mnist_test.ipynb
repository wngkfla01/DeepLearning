{
  "nbformat": 4,
  "nbformat_minor": 0,
  "metadata": {
    "colab": {
      "name": "tf06_dnn_mnist_test.ipynb",
      "provenance": [],
      "collapsed_sections": [],
      "mount_file_id": "18gnUibElCyl-1GgAvGso4xcx8RKxqOFM",
      "authorship_tag": "ABX9TyPa3fQFriEaLwJdL+vxdv4O",
      "include_colab_link": true
    },
    "kernelspec": {
      "name": "python3",
      "display_name": "Python 3"
    }
  },
  "cells": [
    {
      "cell_type": "markdown",
      "metadata": {
        "id": "view-in-github",
        "colab_type": "text"
      },
      "source": [
        "<a href=\"https://colab.research.google.com/github/chhak/DeepLearning/blob/master/tf06_dnn_mnist_test.ipynb\" target=\"_parent\"><img src=\"https://colab.research.google.com/assets/colab-badge.svg\" alt=\"Open In Colab\"/></a>"
      ]
    },
    {
      "cell_type": "code",
      "metadata": {
        "id": "eZZaH6l4GucM",
        "colab_type": "code",
        "colab": {}
      },
      "source": [
        "\"\"\"\n",
        "날짜 : 2020/08/19\n",
        "이름 : 김철학\n",
        "내용 : 딥러닝 mnist 이미지 분류 실습하기\n",
        "\"\"\"\n",
        "import matplotlib.pyplot as plt\n",
        "import numpy as np\n",
        "from tensorflow.keras.datasets.mnist import load_data\n",
        "from tensorflow.keras.utils import to_categorical\n",
        "from tensorflow.keras.models import Sequential\n",
        "from tensorflow.keras.layers import Dense, Flatten\n",
        "from sklearn.model_selection import train_test_split\n",
        "from PIL import Image #파이썬 이미지 처리 라이브러리\n",
        "tf.__version__"
      ],
      "execution_count": null,
      "outputs": []
    },
    {
      "cell_type": "code",
      "metadata": {
        "id": "6wefU5q8IePp",
        "colab_type": "code",
        "colab": {
          "base_uri": "https://localhost:8080/",
          "height": 35
        },
        "outputId": "3aff58b1-cf07-4a0f-d393-a438d3bfaff4"
      },
      "source": [
        "#구글드라이브 연동\n",
        "from google.colab import drive\n",
        "drive.mount('/content/drive')"
      ],
      "execution_count": null,
      "outputs": [
        {
          "output_type": "stream",
          "text": [
            "Drive already mounted at /content/drive; to attempt to forcibly remount, call drive.mount(\"/content/drive\", force_remount=True).\n"
          ],
          "name": "stdout"
        }
      ]
    },
    {
      "cell_type": "code",
      "metadata": {
        "id": "L6ZP2MPJI6rq",
        "colab_type": "code",
        "colab": {}
      },
      "source": [
        "#구글드라이브 이미지 로드하기\n",
        "img1 = Image.open('/content/drive/My Drive/Tensorflow_works/data/mnist_img1.jpg')\n",
        "img2 = Image.open('/content/drive/My Drive/Tensorflow_works/data/mnist_img2.jpg')\n",
        "img3 = Image.open('/content/drive/My Drive/Tensorflow_works/data/mnist_img3.jpg')\n",
        "img4 = Image.open('/content/drive/My Drive/Tensorflow_works/data/mnist_img4.jpg')\n",
        "img5 = Image.open('/content/drive/My Drive/Tensorflow_works/data/mnist_img5.jpg')\n",
        "\n",
        "#이미지 파일의 픽셀값 추출\n",
        "img1_px = np.array(img1)\n",
        "img2_px = np.array(img2)\n",
        "img3_px = np.array(img3)\n",
        "img4_px = np.array(img4)\n",
        "img5_px = np.array(img5)\n",
        "\n",
        "img_arr = np.array([img1_px, img2_px, img3_px, img4_px, img5_px])\n",
        "img_arr = img_arr / 255.0\n",
        "img_arr"
      ],
      "execution_count": null,
      "outputs": []
    },
    {
      "cell_type": "code",
      "metadata": {
        "id": "0ip3PoQiKCQS",
        "colab_type": "code",
        "colab": {
          "base_uri": "https://localhost:8080/",
          "height": 70
        },
        "outputId": "f277c68b-fc7b-4145-eeff-e64e5cd3f362"
      },
      "source": [
        "#학습데이터 로드\n",
        "(mnist_train_data, mnist_train_label), (mnist_test_data, mnist_test_label) = load_data()\n",
        "\n",
        "#데이터 형태 확인\n",
        "print(mnist_train_data.shape, mnist_train_label.shape)\n",
        "print(mnist_test_data.shape, mnist_test_label.shape)\n",
        "print(mnist_train_label)"
      ],
      "execution_count": null,
      "outputs": [
        {
          "output_type": "stream",
          "text": [
            "(60000, 28, 28) (60000,)\n",
            "(10000, 28, 28) (10000,)\n",
            "[5 0 4 ... 5 6 8]\n"
          ],
          "name": "stdout"
        }
      ]
    },
    {
      "cell_type": "code",
      "metadata": {
        "id": "PuvMmto6LFdQ",
        "colab_type": "code",
        "colab": {
          "base_uri": "https://localhost:8080/",
          "height": 244
        },
        "outputId": "0cfa8ba7-0ca5-4a34-da28-a8514a1683c9"
      },
      "source": [
        "#데이터 샘플 이미지 출력\n",
        "random_idx = np.random.randint(60000, size=5)\n",
        "print(random_idx)\n",
        "\n",
        "plt.figure(figsize=(5, 5))\n",
        "\n",
        "for i, idx in enumerate(random_idx):\n",
        "  plt.subplot(3, 3, i+1)\n",
        "  plt.xticks([])\n",
        "  plt.yticks([])\n",
        "  label = mnist_train_label[idx]\n",
        "  plt.imshow(mnist_train_data[idx, :])\n",
        "  plt.title('number is %d' % label)\n"
      ],
      "execution_count": null,
      "outputs": [
        {
          "output_type": "stream",
          "text": [
            "[43303 46466 32224 25660 36429]\n"
          ],
          "name": "stdout"
        },
        {
          "output_type": "display_data",
          "data": {
            "image/png": "[encoded data removed]",
            "text/plain": [
              "<Figure size 360x360 with 5 Axes>"
            ]
          },
          "metadata": {
            "tags": []
          }
        }
      ]
    },
    {
      "cell_type": "code",
      "metadata": {
        "id": "SZBc17blNTgw",
        "colab_type": "code",
        "colab": {
          "base_uri": "https://localhost:8080/",
          "height": 52
        },
        "outputId": "557c6c09-2c7d-4d3a-c344-c27385c9f027"
      },
      "source": [
        "#데이터셋 분할하기\n",
        "train_data, test_data, train_label, test_label = train_test_split(mnist_train_data, mnist_train_label)\n",
        "print('훈련 데이터 :', train_data.shape)\n",
        "print('검증 데이터 :', test_data.shape)"
      ],
      "execution_count": null,
      "outputs": [
        {
          "output_type": "stream",
          "text": [
            "훈련 데이터 : (45000, 28, 28)\n",
            "검증 데이터 : (15000, 28, 28)\n"
          ],
          "name": "stdout"
        }
      ]
    },
    {
      "cell_type": "code",
      "metadata": {
        "id": "7d8Y3Z1POAX6",
        "colab_type": "code",
        "colab": {}
      },
      "source": [
        "#모델학습을 위한 데이터 전처리(정규화)\n",
        "train_data = train_data / 255\n",
        "test_data = test_data / 255\n",
        "mnist_test_data = mnist_test_data / 255\n",
        "\n",
        "#각 데이터의 레이블을 범주형(One-hot encoding) 형태로 변환\n",
        "train_label = to_categorical(train_label)\n",
        "test_label = to_categorical(test_label)\n",
        "mnist_test_label = to_categorical(mnist_test_label)"
      ],
      "execution_count": null,
      "outputs": []
    },
    {
      "cell_type": "code",
      "metadata": {
        "id": "Fme6vxYMOoWY",
        "colab_type": "code",
        "colab": {}
      },
      "source": [
        "#학습모델 구성하기\n",
        "model = Sequential()\n",
        "model.add(Flatten(input_shape=(28, 28))) #입력층\n",
        "model.add(Dense(64, activation='relu'))  #은닉층\n",
        "model.add(Dense(32, activation='relu'))  #은닉층\n",
        "model.add(Dense(10, activation='softmax')) #출력층"
      ],
      "execution_count": null,
      "outputs": []
    },
    {
      "cell_type": "code",
      "metadata": {
        "id": "m7sgsuCcOmIQ",
        "colab_type": "code",
        "colab": {}
      },
      "source": [
        "#학습모델 설정하기\n",
        "model.compile(optimizer='adam',\n",
        "              loss='categorical_crossentropy',\n",
        "              metrics=['acc'])"
      ],
      "execution_count": null,
      "outputs": []
    },
    {
      "cell_type": "code",
      "metadata": {
        "id": "5Sj2SUVwQLEN",
        "colab_type": "code",
        "colab": {
          "base_uri": "https://localhost:8080/",
          "height": 1000
        },
        "outputId": "81163091-e0ec-4033-b25d-0cbbbf82f5d5"
      },
      "source": [
        "#학습하기\n",
        "model.fit(train_data,\n",
        "          train_label,\n",
        "          epochs=30,\n",
        "          batch_size=128,\n",
        "          validation_data=(test_data, test_label))\n"
      ],
      "execution_count": null,
      "outputs": [
        {
          "output_type": "stream",
          "text": [
            "Epoch 1/30\n",
            "352/352 [==============================] - 1s 3ms/step - loss: 0.4780 - acc: 0.8647 - val_loss: 0.2318 - val_acc: 0.9351\n",
            "Epoch 2/30\n",
            "352/352 [==============================] - 1s 3ms/step - loss: 0.1969 - acc: 0.9430 - val_loss: 0.1770 - val_acc: 0.9484\n",
            "Epoch 3/30\n",
            "352/352 [==============================] - 1s 3ms/step - loss: 0.1499 - acc: 0.9567 - val_loss: 0.1532 - val_acc: 0.9556\n",
            "Epoch 4/30\n",
            "352/352 [==============================] - 1s 3ms/step - loss: 0.1226 - acc: 0.9640 - val_loss: 0.1457 - val_acc: 0.9577\n",
            "Epoch 5/30\n",
            "352/352 [==============================] - 1s 3ms/step - loss: 0.1035 - acc: 0.9695 - val_loss: 0.1337 - val_acc: 0.9601\n",
            "Epoch 6/30\n",
            "352/352 [==============================] - 1s 3ms/step - loss: 0.0875 - acc: 0.9740 - val_loss: 0.1248 - val_acc: 0.9649\n",
            "Epoch 7/30\n",
            "352/352 [==============================] - 1s 3ms/step - loss: 0.0770 - acc: 0.9769 - val_loss: 0.1202 - val_acc: 0.9655\n",
            "Epoch 8/30\n",
            "352/352 [==============================] - 1s 3ms/step - loss: 0.0669 - acc: 0.9800 - val_loss: 0.1217 - val_acc: 0.9649\n",
            "Epoch 9/30\n",
            "352/352 [==============================] - 1s 3ms/step - loss: 0.0584 - acc: 0.9826 - val_loss: 0.1201 - val_acc: 0.9660\n",
            "Epoch 10/30\n",
            "352/352 [==============================] - 1s 3ms/step - loss: 0.0525 - acc: 0.9842 - val_loss: 0.1117 - val_acc: 0.9675\n",
            "Epoch 11/30\n",
            "352/352 [==============================] - 1s 3ms/step - loss: 0.0454 - acc: 0.9868 - val_loss: 0.1127 - val_acc: 0.9683\n",
            "Epoch 12/30\n",
            "352/352 [==============================] - 1s 3ms/step - loss: 0.0419 - acc: 0.9874 - val_loss: 0.1057 - val_acc: 0.9701\n",
            "Epoch 13/30\n",
            "352/352 [==============================] - 1s 3ms/step - loss: 0.0356 - acc: 0.9898 - val_loss: 0.1128 - val_acc: 0.9689\n",
            "Epoch 14/30\n",
            "352/352 [==============================] - 1s 3ms/step - loss: 0.0311 - acc: 0.9909 - val_loss: 0.1193 - val_acc: 0.9684\n",
            "Epoch 15/30\n",
            "352/352 [==============================] - 1s 3ms/step - loss: 0.0273 - acc: 0.9918 - val_loss: 0.1127 - val_acc: 0.9703\n",
            "Epoch 16/30\n",
            "352/352 [==============================] - 1s 3ms/step - loss: 0.0235 - acc: 0.9932 - val_loss: 0.1185 - val_acc: 0.9694\n",
            "Epoch 17/30\n",
            "352/352 [==============================] - 1s 3ms/step - loss: 0.0216 - acc: 0.9938 - val_loss: 0.1188 - val_acc: 0.9706\n",
            "Epoch 18/30\n",
            "352/352 [==============================] - 1s 3ms/step - loss: 0.0195 - acc: 0.9947 - val_loss: 0.1233 - val_acc: 0.9687\n",
            "Epoch 19/30\n",
            "352/352 [==============================] - 1s 3ms/step - loss: 0.0170 - acc: 0.9953 - val_loss: 0.1277 - val_acc: 0.9702\n",
            "Epoch 20/30\n",
            "352/352 [==============================] - 1s 3ms/step - loss: 0.0155 - acc: 0.9960 - val_loss: 0.1326 - val_acc: 0.9684\n",
            "Epoch 21/30\n",
            "352/352 [==============================] - 1s 3ms/step - loss: 0.0132 - acc: 0.9963 - val_loss: 0.1313 - val_acc: 0.9700\n",
            "Epoch 22/30\n",
            "352/352 [==============================] - 1s 3ms/step - loss: 0.0152 - acc: 0.9953 - val_loss: 0.1470 - val_acc: 0.9678\n",
            "Epoch 23/30\n",
            "352/352 [==============================] - 1s 3ms/step - loss: 0.0134 - acc: 0.9961 - val_loss: 0.1378 - val_acc: 0.9687\n",
            "Epoch 24/30\n",
            "352/352 [==============================] - 1s 3ms/step - loss: 0.0092 - acc: 0.9978 - val_loss: 0.1379 - val_acc: 0.9699\n",
            "Epoch 25/30\n",
            "352/352 [==============================] - 1s 3ms/step - loss: 0.0069 - acc: 0.9986 - val_loss: 0.1344 - val_acc: 0.9705\n",
            "Epoch 26/30\n",
            "352/352 [==============================] - 1s 3ms/step - loss: 0.0089 - acc: 0.9975 - val_loss: 0.1462 - val_acc: 0.9693\n",
            "Epoch 27/30\n",
            "352/352 [==============================] - 1s 3ms/step - loss: 0.0133 - acc: 0.9952 - val_loss: 0.1479 - val_acc: 0.9693\n",
            "Epoch 28/30\n",
            "352/352 [==============================] - 1s 3ms/step - loss: 0.0087 - acc: 0.9976 - val_loss: 0.1478 - val_acc: 0.9707\n",
            "Epoch 29/30\n",
            "352/352 [==============================] - 1s 3ms/step - loss: 0.0056 - acc: 0.9988 - val_loss: 0.1504 - val_acc: 0.9711\n",
            "Epoch 30/30\n",
            "352/352 [==============================] - 1s 3ms/step - loss: 0.0043 - acc: 0.9992 - val_loss: 0.1513 - val_acc: 0.9711\n"
          ],
          "name": "stdout"
        },
        {
          "output_type": "execute_result",
          "data": {
            "text/plain": [
              "<tensorflow.python.keras.callbacks.History at 0x7f7b17847f98>"
            ]
          },
          "metadata": {
            "tags": []
          },
          "execution_count": 104
        }
      ]
    },
    {
      "cell_type": "code",
      "metadata": {
        "id": "ecbx9ZYUQ0Cm",
        "colab_type": "code",
        "colab": {
          "base_uri": "https://localhost:8080/",
          "height": 52
        },
        "outputId": "b3f37cc8-156a-496f-9cae-ee831093d268"
      },
      "source": [
        "#평가하기\n",
        "model.evaluate(mnist_test_data, mnist_test_label)"
      ],
      "execution_count": null,
      "outputs": [
        {
          "output_type": "stream",
          "text": [
            "313/313 [==============================] - 0s 1ms/step - loss: 0.1388 - acc: 0.9714\n"
          ],
          "name": "stdout"
        },
        {
          "output_type": "execute_result",
          "data": {
            "text/plain": [
              "[0.1387617588043213, 0.9714000225067139]"
            ]
          },
          "metadata": {
            "tags": []
          },
          "execution_count": 105
        }
      ]
    },
    {
      "cell_type": "code",
      "metadata": {
        "id": "HZtQkQWhobPl",
        "colab_type": "code",
        "colab": {
          "base_uri": "https://localhost:8080/",
          "height": 885
        },
        "outputId": "c3b09820-8b95-45c5-f6e5-61e551e4d17d"
      },
      "source": [
        "mnist_test_data"
      ],
      "execution_count": null,
      "outputs": [
        {
          "output_type": "execute_result",
          "data": {
            "text/plain": [
              "array([[[0., 0., 0., ..., 0., 0., 0.],\n",
              "        [0., 0., 0., ..., 0., 0., 0.],\n",
              "        [0., 0., 0., ..., 0., 0., 0.],\n",
              "        ...,\n",
              "        [0., 0., 0., ..., 0., 0., 0.],\n",
              "        [0., 0., 0., ..., 0., 0., 0.],\n",
              "        [0., 0., 0., ..., 0., 0., 0.]],\n",
              "\n",
              "       [[0., 0., 0., ..., 0., 0., 0.],\n",
              "        [0., 0., 0., ..., 0., 0., 0.],\n",
              "        [0., 0., 0., ..., 0., 0., 0.],\n",
              "        ...,\n",
              "        [0., 0., 0., ..., 0., 0., 0.],\n",
              "        [0., 0., 0., ..., 0., 0., 0.],\n",
              "        [0., 0., 0., ..., 0., 0., 0.]],\n",
              "\n",
              "       [[0., 0., 0., ..., 0., 0., 0.],\n",
              "        [0., 0., 0., ..., 0., 0., 0.],\n",
              "        [0., 0., 0., ..., 0., 0., 0.],\n",
              "        ...,\n",
              "        [0., 0., 0., ..., 0., 0., 0.],\n",
              "        [0., 0., 0., ..., 0., 0., 0.],\n",
              "        [0., 0., 0., ..., 0., 0., 0.]],\n",
              "\n",
              "       ...,\n",
              "\n",
              "       [[0., 0., 0., ..., 0., 0., 0.],\n",
              "        [0., 0., 0., ..., 0., 0., 0.],\n",
              "        [0., 0., 0., ..., 0., 0., 0.],\n",
              "        ...,\n",
              "        [0., 0., 0., ..., 0., 0., 0.],\n",
              "        [0., 0., 0., ..., 0., 0., 0.],\n",
              "        [0., 0., 0., ..., 0., 0., 0.]],\n",
              "\n",
              "       [[0., 0., 0., ..., 0., 0., 0.],\n",
              "        [0., 0., 0., ..., 0., 0., 0.],\n",
              "        [0., 0., 0., ..., 0., 0., 0.],\n",
              "        ...,\n",
              "        [0., 0., 0., ..., 0., 0., 0.],\n",
              "        [0., 0., 0., ..., 0., 0., 0.],\n",
              "        [0., 0., 0., ..., 0., 0., 0.]],\n",
              "\n",
              "       [[0., 0., 0., ..., 0., 0., 0.],\n",
              "        [0., 0., 0., ..., 0., 0., 0.],\n",
              "        [0., 0., 0., ..., 0., 0., 0.],\n",
              "        ...,\n",
              "        [0., 0., 0., ..., 0., 0., 0.],\n",
              "        [0., 0., 0., ..., 0., 0., 0.],\n",
              "        [0., 0., 0., ..., 0., 0., 0.]]])"
            ]
          },
          "metadata": {
            "tags": []
          },
          "execution_count": 75
        }
      ]
    },
    {
      "cell_type": "code",
      "metadata": {
        "id": "ZnMu9-6ZQ77l",
        "colab_type": "code",
        "colab": {
          "base_uri": "https://localhost:8080/",
          "height": 1000
        },
        "outputId": "6f49916d-4094-49e7-c3eb-de189d0f0125"
      },
      "source": [
        "#테스트하기\n",
        "result = model.predict(mnist_test_data)\n",
        "\n",
        "from sklearn.metrics import accuracy_score\n",
        "score = accuracy_score(result.round(), mnist_test_label)\n",
        "print('점수 :', score)\n",
        "\n",
        "for i in range(20):\n",
        "  print('i=> ', i)\n",
        "  print(\"결과 :\", result[i].round())\n",
        "  print('정답 :', mnist_test_label[i])\n",
        "  \n",
        "# 3을 8로 인식함\n",
        "plt.imshow(mnist_test_data[18].reshape(28, 28))\n",
        "\n",
        "#추가한 숫자 이미지 분류 검사하기\n",
        "final_result = model.predict(img_arr)\n",
        "print('final_result')\n",
        "print(final_result.round())"
      ],
      "execution_count": null,
      "outputs": [
        {
          "output_type": "stream",
          "text": [
            "점수 : 0.9711\n",
            "i=>  0\n",
            "결과 : [0. 0. 0. 0. 0. 0. 0. 1. 0. 0.]\n",
            "정답 : [0. 0. 0. 0. 0. 0. 0. 1. 0. 0.]\n",
            "i=>  1\n",
            "결과 : [0. 0. 1. 0. 0. 0. 0. 0. 0. 0.]\n",
            "정답 : [0. 0. 1. 0. 0. 0. 0. 0. 0. 0.]\n",
            "i=>  2\n",
            "결과 : [0. 1. 0. 0. 0. 0. 0. 0. 0. 0.]\n",
            "정답 : [0. 1. 0. 0. 0. 0. 0. 0. 0. 0.]\n",
            "i=>  3\n",
            "결과 : [1. 0. 0. 0. 0. 0. 0. 0. 0. 0.]\n",
            "정답 : [1. 0. 0. 0. 0. 0. 0. 0. 0. 0.]\n",
            "i=>  4\n",
            "결과 : [0. 0. 0. 0. 1. 0. 0. 0. 0. 0.]\n",
            "정답 : [0. 0. 0. 0. 1. 0. 0. 0. 0. 0.]\n",
            "i=>  5\n",
            "결과 : [0. 1. 0. 0. 0. 0. 0. 0. 0. 0.]\n",
            "정답 : [0. 1. 0. 0. 0. 0. 0. 0. 0. 0.]\n",
            "i=>  6\n",
            "결과 : [0. 0. 0. 0. 1. 0. 0. 0. 0. 0.]\n",
            "정답 : [0. 0. 0. 0. 1. 0. 0. 0. 0. 0.]\n",
            "i=>  7\n",
            "결과 : [0. 0. 0. 0. 0. 0. 0. 0. 0. 1.]\n",
            "정답 : [0. 0. 0. 0. 0. 0. 0. 0. 0. 1.]\n",
            "i=>  8\n",
            "결과 : [0. 0. 0. 0. 0. 1. 0. 0. 0. 0.]\n",
            "정답 : [0. 0. 0. 0. 0. 1. 0. 0. 0. 0.]\n",
            "i=>  9\n",
            "결과 : [0. 0. 0. 0. 0. 0. 0. 0. 0. 1.]\n",
            "정답 : [0. 0. 0. 0. 0. 0. 0. 0. 0. 1.]\n",
            "i=>  10\n",
            "결과 : [1. 0. 0. 0. 0. 0. 0. 0. 0. 0.]\n",
            "정답 : [1. 0. 0. 0. 0. 0. 0. 0. 0. 0.]\n",
            "i=>  11\n",
            "결과 : [0. 0. 0. 0. 0. 0. 1. 0. 0. 0.]\n",
            "정답 : [0. 0. 0. 0. 0. 0. 1. 0. 0. 0.]\n",
            "i=>  12\n",
            "결과 : [0. 0. 0. 0. 0. 0. 0. 0. 0. 1.]\n",
            "정답 : [0. 0. 0. 0. 0. 0. 0. 0. 0. 1.]\n",
            "i=>  13\n",
            "결과 : [1. 0. 0. 0. 0. 0. 0. 0. 0. 0.]\n",
            "정답 : [1. 0. 0. 0. 0. 0. 0. 0. 0. 0.]\n",
            "i=>  14\n",
            "결과 : [0. 1. 0. 0. 0. 0. 0. 0. 0. 0.]\n",
            "정답 : [0. 1. 0. 0. 0. 0. 0. 0. 0. 0.]\n",
            "i=>  15\n",
            "결과 : [0. 0. 0. 0. 0. 1. 0. 0. 0. 0.]\n",
            "정답 : [0. 0. 0. 0. 0. 1. 0. 0. 0. 0.]\n",
            "i=>  16\n",
            "결과 : [0. 0. 0. 0. 0. 0. 0. 0. 0. 1.]\n",
            "정답 : [0. 0. 0. 0. 0. 0. 0. 0. 0. 1.]\n",
            "i=>  17\n",
            "결과 : [0. 0. 0. 0. 0. 0. 0. 1. 0. 0.]\n",
            "정답 : [0. 0. 0. 0. 0. 0. 0. 1. 0. 0.]\n",
            "i=>  18\n",
            "결과 : [0. 0. 0. 1. 0. 0. 0. 0. 0. 0.]\n",
            "정답 : [0. 0. 0. 1. 0. 0. 0. 0. 0. 0.]\n",
            "i=>  19\n",
            "결과 : [0. 0. 0. 0. 1. 0. 0. 0. 0. 0.]\n",
            "정답 : [0. 0. 0. 0. 1. 0. 0. 0. 0. 0.]\n",
            "final_result\n",
            "[[0. 1. 0. 0. 0. 0. 0. 0. 0. 0.]\n",
            " [0. 0. 1. 0. 0. 0. 0. 0. 0. 0.]\n",
            " [0. 0. 0. 1. 0. 0. 0. 0. 0. 0.]\n",
            " [0. 0. 0. 0. 1. 0. 0. 0. 0. 0.]\n",
            " [0. 0. 0. 0. 0. 1. 0. 0. 0. 0.]]\n"
          ],
          "name": "stdout"
        },
        {
          "output_type": "display_data",
          "data": {
            "image/png": "[encoded data removed]",
            "text/plain": [
              "<Figure size 432x288 with 1 Axes>"
            ]
          },
          "metadata": {
            "tags": [],
            "needs_background": "light"
          }
        }
      ]
    }
  ]
}