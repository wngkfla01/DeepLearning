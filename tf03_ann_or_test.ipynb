{
  "nbformat": 4,
  "nbformat_minor": 0,
  "metadata": {
    "colab": {
      "name": "tf03_ann_or_test.ipynb",
      "provenance": [],
      "collapsed_sections": [],
      "authorship_tag": "ABX9TyO0ADP4BnoUVFnxHv3n/8ST",
      "include_colab_link": true
    },
    "kernelspec": {
      "name": "python3",
      "display_name": "Python 3"
    },
    "accelerator": "GPU"
  },
  "cells": [
    {
      "cell_type": "markdown",
      "metadata": {
        "id": "view-in-github",
        "colab_type": "text"
      },
      "source": [
        "<a href=\"https://colab.research.google.com/github/chhak/DeepLearning/blob/master/tf03_ann_or_test.ipynb\" target=\"_parent\"><img src=\"https://colab.research.google.com/assets/colab-badge.svg\" alt=\"Open In Colab\"/></a>"
      ]
    },
    {
      "cell_type": "code",
      "metadata": {
        "id": "cfXE0L4wQFTW",
        "colab_type": "code",
        "colab": {}
      },
      "source": [
        "\"\"\"\n",
        "날짜 : 2020/08/18\n",
        "이름 : 김철학\n",
        "내용 : OR 연산 실습하기\n",
        "\"\"\"\n",
        "import tensorflow as tf\n",
        "import numpy as np\n",
        "from tensorflow.keras.models import Sequential\n",
        "from tensorflow.keras.layers import Dense\n",
        "from tensorflow.keras.optimizers import SGD\n",
        "from tensorflow.keras.losses import mse\n",
        "\n",
        "tf.__version__"
      ],
      "execution_count": null,
      "outputs": []
    },
    {
      "cell_type": "code",
      "metadata": {
        "id": "l_cNR1nkRLus",
        "colab_type": "code",
        "colab": {}
      },
      "source": [
        "#데이터 준비\n",
        "data = np.array([[0, 0], [0, 1], [1, 0], [1, 1]])\n",
        "label = np.array([[0], [1], [1], [1]])"
      ],
      "execution_count": null,
      "outputs": []
    },
    {
      "cell_type": "code",
      "metadata": {
        "id": "MtVopcV4RiMD",
        "colab_type": "code",
        "colab": {}
      },
      "source": [
        "#학습모델 설계\n",
        "model = Sequential()\n",
        "model.add(Dense(units=1, input_shape=(2,), activation='sigmoid'))"
      ],
      "execution_count": null,
      "outputs": []
    },
    {
      "cell_type": "code",
      "metadata": {
        "id": "J9n8ooK_SBDD",
        "colab_type": "code",
        "colab": {}
      },
      "source": [
        "#모델 설정\n",
        "model.compile(optimizer='Adam',\n",
        "              loss=mse,\n",
        "              metrics=['acc'])"
      ],
      "execution_count": null,
      "outputs": []
    },
    {
      "cell_type": "code",
      "metadata": {
        "id": "X5F5oPvOSaCz",
        "colab_type": "code",
        "colab": {}
      },
      "source": [
        "#학습하기\n",
        "model.fit(data, label, epochs=100)"
      ],
      "execution_count": null,
      "outputs": []
    },
    {
      "cell_type": "code",
      "metadata": {
        "id": "uaiNb_91Skk8",
        "colab_type": "code",
        "colab": {
          "base_uri": "https://localhost:8080/",
          "height": 89
        },
        "outputId": "c10b299d-fe60-459b-9ee5-79969ed9b065"
      },
      "source": [
        "#검증하기\n",
        "result = model.predict(data)\n",
        "result\n"
      ],
      "execution_count": null,
      "outputs": [
        {
          "output_type": "execute_result",
          "data": {
            "text/plain": [
              "array([[0.52402616],\n",
              "       [0.4918075 ],\n",
              "       [0.6027362 ],\n",
              "       [0.5714886 ]], dtype=float32)"
            ]
          },
          "metadata": {
            "tags": []
          },
          "execution_count": 8
        }
      ]
    }
  ]
}