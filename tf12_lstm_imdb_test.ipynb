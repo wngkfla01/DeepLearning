{
  "nbformat": 4,
  "nbformat_minor": 0,
  "metadata": {
    "colab": {
      "name": "tf12_lstm_imdb_test.ipynb",
      "provenance": [],
      "collapsed_sections": [],
      "authorship_tag": "ABX9TyMHTw5GfMzdECz87DO+AkGc",
      "include_colab_link": true
    },
    "kernelspec": {
      "name": "python3",
      "display_name": "Python 3"
    },
    "accelerator": "GPU"
  },
  "cells": [
    {
      "cell_type": "markdown",
      "metadata": {
        "id": "view-in-github",
        "colab_type": "text"
      },
      "source": [
        "<a href=\"https://colab.research.google.com/github/chhak/DeepLearning/blob/master/tf12_lstm_imdb_test.ipynb\" target=\"_parent\"><img src=\"https://colab.research.google.com/assets/colab-badge.svg\" alt=\"Open In Colab\"/></a>"
      ]
    },
    {
      "cell_type": "code",
      "metadata": {
        "id": "Hc_mSK2Qq9WV",
        "colab_type": "code",
        "colab": {}
      },
      "source": [
        "\"\"\"\n",
        "내용 : imdb LSTM 모델 실습하기 교재 p206\n",
        "\"\"\"\n",
        "import tensorflow as tf\n",
        "from tensorflow.keras.preprocessing.text import Tokenizer\n",
        "from tensorflow.keras.preprocessing.sequence import pad_sequences\n",
        "from tensorflow.keras.utils import to_categorical\n",
        "from tensorflow.keras.datasets import imdb\n",
        "from tensorflow.keras.models import Sequential\n",
        "from tensorflow.keras.layers import LSTM, Dense, Embedding\n",
        "tf.__version__"
      ],
      "execution_count": null,
      "outputs": []
    },
    {
      "cell_type": "code",
      "metadata": {
        "id": "S0MQ-6tewJoZ",
        "colab_type": "code",
        "colab": {
          "base_uri": "https://localhost:8080/",
          "height": 53
        },
        "outputId": "f17a774d-e462-4b6a-eae4-81ef4b0cb63a"
      },
      "source": [
        "#데이터셋 로드하기\n",
        "#imdb(Internet Movie Database) : 인터넷 영화 DB에서 수집한 영화 리뷰 데이터, 전처리(정규화)된 상태로 제공\n",
        "(imdb_train_data, imdb_train_label), (imdb_test_data, imdb_test_label) = imdb.load_data(num_words=1000)"
      ],
      "execution_count": null,
      "outputs": [
        {
          "output_type": "stream",
          "text": [
            "Downloading data from https://storage.googleapis.com/tensorflow/tf-keras-datasets/imdb.npz\n",
            "17465344/17464789 [==============================] - 0s 0us/step\n"
          ],
          "name": "stdout"
        }
      ]
    },
    {
      "cell_type": "code",
      "metadata": {
        "id": "0ejr4kFUwOKW",
        "colab_type": "code",
        "colab": {
          "base_uri": "https://localhost:8080/",
          "height": 89
        },
        "outputId": "35648ee8-f0ea-4b59-a26d-49296c36cf09"
      },
      "source": [
        "#데이터를 동일한 길이로 맞추기\n",
        "print('패딩 전 :', len(imdb_train_data[0])) #218\n",
        "print('패딩 전 :', len(imdb_train_data[3])) #550\n",
        "\n",
        "pad_imdb_train_data = pad_sequences(imdb_train_data, maxlen=500, padding='pre')\n",
        "pad_imdb_test_data = pad_sequences(imdb_test_data, maxlen=500, padding='pre')\n",
        "\n",
        "print('패딩 후 :', len(pad_imdb_train_data[0])) #500\n",
        "print('패딩 후 :', len(pad_imdb_test_data[3]))  #500\n"
      ],
      "execution_count": null,
      "outputs": [
        {
          "output_type": "stream",
          "text": [
            "패딩 전 : 218\n",
            "패딩 전 : 550\n",
            "패딩 후 : 500\n",
            "패딩 후 : 500\n"
          ],
          "name": "stdout"
        }
      ]
    },
    {
      "cell_type": "code",
      "metadata": {
        "id": "Jiql1LEywWnl",
        "colab_type": "code",
        "colab": {
          "base_uri": "https://localhost:8080/",
          "height": 269
        },
        "outputId": "4ba5446d-a494-47b0-fc49-ee13812c094a"
      },
      "source": [
        "#모델 구성하기\n",
        "model = Sequential()\n",
        "model.add(Embedding(input_dim=5000, output_dim=120))\n",
        "model.add(LSTM(120))\n",
        "model.add(Dense(1, activation='sigmoid'))\n",
        "\n",
        "model.compile(optimizer='adam',\n",
        "              loss='binary_crossentropy',\n",
        "              metrics=['acc'])\n",
        "\n",
        "model.summary()"
      ],
      "execution_count": null,
      "outputs": [
        {
          "output_type": "stream",
          "text": [
            "Model: \"sequential\"\n",
            "_________________________________________________________________\n",
            "Layer (type)                 Output Shape              Param #   \n",
            "=================================================================\n",
            "embedding (Embedding)        (None, None, 120)         600000    \n",
            "_________________________________________________________________\n",
            "lstm (LSTM)                  (None, 120)               115680    \n",
            "_________________________________________________________________\n",
            "dense (Dense)                (None, 1)                 121       \n",
            "=================================================================\n",
            "Total params: 715,801\n",
            "Trainable params: 715,801\n",
            "Non-trainable params: 0\n",
            "_________________________________________________________________\n"
          ],
          "name": "stdout"
        }
      ]
    },
    {
      "cell_type": "code",
      "metadata": {
        "id": "8QmxDovuxLTl",
        "colab_type": "code",
        "colab": {
          "base_uri": "https://localhost:8080/",
          "height": 395
        },
        "outputId": "4540b09f-7345-4ebc-df59-b97e5b90097d"
      },
      "source": [
        "#학습하기(시간 좀 걸림)\n",
        "model.fit(pad_imdb_train_data, \n",
        "          imdb_train_label,\n",
        "          batch_size = 64,\n",
        "          epochs = 10,\n",
        "          validation_split = 0.2)"
      ],
      "execution_count": null,
      "outputs": [
        {
          "output_type": "stream",
          "text": [
            "Epoch 1/10\n",
            "313/313 [==============================] - 13s 41ms/step - loss: 0.4929 - acc: 0.7621 - val_loss: 0.3741 - val_acc: 0.8440\n",
            "Epoch 2/10\n",
            "313/313 [==============================] - 12s 39ms/step - loss: 0.3922 - acc: 0.8302 - val_loss: 0.3754 - val_acc: 0.8406\n",
            "Epoch 3/10\n",
            "313/313 [==============================] - 12s 40ms/step - loss: 0.3477 - acc: 0.8540 - val_loss: 0.3618 - val_acc: 0.8442\n",
            "Epoch 4/10\n",
            "313/313 [==============================] - 12s 40ms/step - loss: 0.3300 - acc: 0.8630 - val_loss: 0.4495 - val_acc: 0.7900\n",
            "Epoch 5/10\n",
            "313/313 [==============================] - 12s 40ms/step - loss: 0.3543 - acc: 0.8457 - val_loss: 0.3654 - val_acc: 0.8466\n",
            "Epoch 6/10\n",
            "313/313 [==============================] - 12s 39ms/step - loss: 0.2967 - acc: 0.8751 - val_loss: 0.3645 - val_acc: 0.8524\n",
            "Epoch 7/10\n",
            "313/313 [==============================] - 12s 39ms/step - loss: 0.2932 - acc: 0.8766 - val_loss: 0.3507 - val_acc: 0.8522\n",
            "Epoch 8/10\n",
            "313/313 [==============================] - 12s 39ms/step - loss: 0.2665 - acc: 0.8923 - val_loss: 0.3744 - val_acc: 0.8614\n",
            "Epoch 9/10\n",
            "313/313 [==============================] - 12s 39ms/step - loss: 0.3174 - acc: 0.8583 - val_loss: 0.5417 - val_acc: 0.7134\n",
            "Epoch 10/10\n",
            "313/313 [==============================] - 12s 39ms/step - loss: 0.3526 - acc: 0.8432 - val_loss: 0.3771 - val_acc: 0.8490\n"
          ],
          "name": "stdout"
        },
        {
          "output_type": "execute_result",
          "data": {
            "text/plain": [
              "<tensorflow.python.keras.callbacks.History at 0x7fa238e6bda0>"
            ]
          },
          "metadata": {
            "tags": []
          },
          "execution_count": 5
        }
      ]
    },
    {
      "cell_type": "code",
      "metadata": {
        "id": "nAwX_omjxgLf",
        "colab_type": "code",
        "colab": {
          "base_uri": "https://localhost:8080/",
          "height": 53
        },
        "outputId": "ef1718fc-c2c1-4437-8580-e1ffade9abb4"
      },
      "source": [
        "#모델 평가하기\n",
        "model.evaluate(pad_imdb_test_data, imdb_test_label)"
      ],
      "execution_count": null,
      "outputs": [
        {
          "output_type": "stream",
          "text": [
            "782/782 [==============================] - 8s 10ms/step - loss: 0.3573 - acc: 0.8526\n"
          ],
          "name": "stdout"
        },
        {
          "output_type": "execute_result",
          "data": {
            "text/plain": [
              "[0.35726526379585266, 0.8526399731636047]"
            ]
          },
          "metadata": {
            "tags": []
          },
          "execution_count": 6
        }
      ]
    },
    {
      "cell_type": "code",
      "metadata": {
        "id": "c-lEgTxR3y4I",
        "colab_type": "code",
        "colab": {}
      },
      "source": [
        "#모델 테스트 - 어떻게 테스트할지 예제 만들기\n",
        "from tensorflow.keras.preprocessing.text import Tokenizer\n",
        "from tensorflow.keras.utils import to_categorical\n",
        "import nltk\n",
        "from nltk.corpus import stopwords\n",
        "\n",
        "word2index = imdb.get_word_index()\n",
        "test_review = []\n",
        "\n",
        "\n",
        "#for word in word_tokenize(\"i love this movie\"):\n",
        "#  test_review.append(word2index[word])\n",
        "\n",
        "\n",
        "#tokenizer.fit_on_texts(texts)\n",
        "\n",
        "#텍스트 데이터를 정수 인덱스 형태로 변환\n"
      ],
      "execution_count": null,
      "outputs": []
    },
    {
      "cell_type": "code",
      "metadata": {
        "id": "0lIPfOjp-HTt",
        "colab_type": "code",
        "colab": {}
      },
      "source": [
        ""
      ],
      "execution_count": null,
      "outputs": []
    }
  ]
}