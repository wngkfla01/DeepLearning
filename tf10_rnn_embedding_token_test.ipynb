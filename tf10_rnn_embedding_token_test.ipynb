{
  "nbformat": 4,
  "nbformat_minor": 0,
  "metadata": {
    "colab": {
      "name": "tf10_rnn_embedding_token_test.ipynb",
      "provenance": [],
      "collapsed_sections": [],
      "authorship_tag": "ABX9TyNBkh+XhghLgTcqY2Y3ilf6",
      "include_colab_link": true
    },
    "kernelspec": {
      "name": "python3",
      "display_name": "Python 3"
    },
    "accelerator": "GPU"
  },
  "cells": [
    {
      "cell_type": "markdown",
      "metadata": {
        "id": "view-in-github",
        "colab_type": "text"
      },
      "source": [
        "<a href=\"https://colab.research.google.com/github/chhak/DeepLearning/blob/master/tf10_rnn_embedding_token_test.ipynb\" target=\"_parent\"><img src=\"https://colab.research.google.com/assets/colab-badge.svg\" alt=\"Open In Colab\"/></a>"
      ]
    },
    {
      "cell_type": "code",
      "metadata": {
        "id": "2OKW890T6J4J",
        "colab_type": "code",
        "colab": {}
      },
      "source": [
        "\"\"\"\n",
        "날짜 : 2020/\n",
        "이름 : 김철학\n",
        "내용 : Embedding 텍스트 토큰 작업 실습하기 교재 p185\n",
        "\"\"\"\n",
        "import tensorflow as tf\n",
        "from tensorflow.keras.preprocessing.text import Tokenizer\n",
        "from tensorflow.keras.utils import to_categorical\n",
        "tf.__version__"
      ],
      "execution_count": null,
      "outputs": []
    },
    {
      "cell_type": "code",
      "metadata": {
        "id": "0_zpLY8M6q0C",
        "colab_type": "code",
        "colab": {
          "base_uri": "https://localhost:8080/",
          "height": 35
        },
        "outputId": "880a55a3-fd1e-4d50-e2cd-f2cfb38372bf"
      },
      "source": [
        "texts = ['You are the Best', \n",
        "         'You are the Nice']\n",
        "\n",
        "tokenizer = Tokenizer(num_words=10, oov_token='<OOV>')\n",
        "tokenizer.fit_on_texts(texts)"
      ],
      "execution_count": null,
      "outputs": [
        {
          "output_type": "execute_result",
          "data": {
            "text/plain": [
              "<keras_preprocessing.text.Tokenizer at 0x7fe60f5222b0>"
            ]
          },
          "metadata": {
            "tags": []
          },
          "execution_count": 8
        }
      ]
    },
    {
      "cell_type": "code",
      "metadata": {
        "id": "xhSpaaCv7JIz",
        "colab_type": "code",
        "colab": {
          "base_uri": "https://localhost:8080/",
          "height": 35
        },
        "outputId": "890af968-d530-4501-8a0c-38362c878542"
      },
      "source": [
        "#텍스트 데이터를 정수 인덱스 형태로 변환\n",
        "sequences = tokenizer.texts_to_sequences(texts)\n",
        "sequences"
      ],
      "execution_count": null,
      "outputs": [
        {
          "output_type": "execute_result",
          "data": {
            "text/plain": [
              "[[2, 3, 4, 5], [2, 3, 4, 6]]"
            ]
          },
          "metadata": {
            "tags": []
          },
          "execution_count": 10
        }
      ]
    },
    {
      "cell_type": "code",
      "metadata": {
        "id": "kQu9Yv7I7b2P",
        "colab_type": "code",
        "colab": {
          "base_uri": "https://localhost:8080/",
          "height": 89
        },
        "outputId": "667d9d67-f543-421a-c837-38fe6ba2fc3d"
      },
      "source": [
        "#이진 데이터로 인코딩\n",
        "binary_results = tokenizer.sequences_to_matrix(sequences, mode='binary')\n",
        "\n",
        "print(tokenizer.word_index)\n",
        "print(sequences)\n",
        "print(binary_results)\n"
      ],
      "execution_count": null,
      "outputs": [
        {
          "output_type": "stream",
          "text": [
            "{'<OOV>': 1, 'you': 2, 'are': 3, 'the': 4, 'best': 5, 'nice': 6}\n",
            "[[2, 3, 4, 5], [2, 3, 4, 6]]\n",
            "[[0. 0. 1. 1. 1. 1. 0. 0. 0. 0.]\n",
            " [0. 0. 1. 1. 1. 0. 1. 0. 0. 0.]]\n"
          ],
          "name": "stdout"
        }
      ]
    }
  ]
}