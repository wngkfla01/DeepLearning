{
  "nbformat": 4,
  "nbformat_minor": 0,
  "metadata": {
    "colab": {
      "name": "Text_word2vec_test1.ipynb",
      "provenance": [],
      "collapsed_sections": [],
      "authorship_tag": "ABX9TyNoPva5+5CPbWaiY92zEPys",
      "include_colab_link": true
    },
    "kernelspec": {
      "name": "python3",
      "display_name": "Python 3"
    }
  },
  "cells": [
    {
      "cell_type": "markdown",
      "metadata": {
        "id": "view-in-github",
        "colab_type": "text"
      },
      "source": [
        "<a href=\"https://colab.research.google.com/github/chhak/DeepLearning/blob/master/Text_word2vec_test1.ipynb\" target=\"_parent\"><img src=\"https://colab.research.google.com/assets/colab-badge.svg\" alt=\"Open In Colab\"/></a>"
      ]
    },
    {
      "cell_type": "code",
      "metadata": {
        "id": "4a_tOcqENJEW",
        "colab_type": "code",
        "colab": {}
      },
      "source": [
        "import nltk\n",
        "from nltk.corpus import movie_reviews\n",
        "from gensim.models.word2vec import Word2Vec\n",
        "\n",
        "nltk.download('movie_reviews')\n",
        "nltk.download('punkt')"
      ],
      "execution_count": null,
      "outputs": []
    },
    {
      "cell_type": "code",
      "metadata": {
        "id": "r57pCnyBNYwa",
        "colab_type": "code",
        "colab": {
          "base_uri": "https://localhost:8080/",
          "height": 35
        },
        "outputId": "67636ce4-4eaf-47d0-f79e-7a9aa3db3874"
      },
      "source": [
        "sentences = [list(s) for s in movie_reviews.sents()]\n",
        "len(sentences)"
      ],
      "execution_count": null,
      "outputs": [
        {
          "output_type": "execute_result",
          "data": {
            "text/plain": [
              "71532"
            ]
          },
          "metadata": {
            "tags": []
          },
          "execution_count": 6
        }
      ]
    },
    {
      "cell_type": "code",
      "metadata": {
        "id": "VzKCkxhpOIiZ",
        "colab_type": "code",
        "colab": {
          "base_uri": "https://localhost:8080/",
          "height": 35
        },
        "outputId": "5593a036-e06c-44e0-ea29-5921a8a12b0c"
      },
      "source": [
        "# word2vec 모델생성\n",
        "model = Word2Vec(sentences)\n",
        "model"
      ],
      "execution_count": null,
      "outputs": [
        {
          "output_type": "execute_result",
          "data": {
            "text/plain": [
              "<gensim.models.word2vec.Word2Vec at 0x7f162bc323c8>"
            ]
          },
          "metadata": {
            "tags": []
          },
          "execution_count": 7
        }
      ]
    },
    {
      "cell_type": "code",
      "metadata": {
        "id": "xVcPboGiOvNA",
        "colab_type": "code",
        "colab": {
          "base_uri": "https://localhost:8080/",
          "height": 145
        },
        "outputId": "9dfef694-d0ce-4348-dfa6-1333201f8a90"
      },
      "source": [
        "# 단어 연관성 확인\n",
        "v1 = model.wv.similarity('actor', 'actress')\n",
        "v2 = model.wv.similarity('he', 'she')\n",
        "v3 = model.wv.most_similar('father')\n",
        "v4 = model.wv.most_similar(positive=['woman', 'king'],\n",
        "                           negative=['man'])\n",
        "\n",
        "\n",
        "print('v1 :', v1)\n",
        "print('v2 :', v2)\n",
        "print('v3 :', v3)\n",
        "print('v4 :', v4)"
      ],
      "execution_count": null,
      "outputs": [
        {
          "output_type": "stream",
          "text": [
            "v1 : 0.8845591\n",
            "v2 : 0.85759914\n",
            "v3 : [('mother', 0.9760868549346924), ('wife', 0.9553759694099426), ('daughter', 0.9529259204864502), ('son', 0.9526107907295227), ('brother', 0.9349198341369629), ('husband', 0.9336689710617065), ('girlfriend', 0.9152087569236755), ('sister', 0.9024441838264465), ('boyfriend', 0.8818097114562988), ('boss', 0.8747274875640869)]\n",
            "v4 : [('jay', 0.8309658169746399), ('williams', 0.8297728300094604), ('captain', 0.8266050815582275), ('queen', 0.8220957517623901), ('steve', 0.819295346736908), ('stewart', 0.8185033798217773), ('joan', 0.8173385858535767), ('beals', 0.8142620325088501), ('jane', 0.810262143611908), ('kinnear', 0.8096699714660645)]\n"
          ],
          "name": "stdout"
        },
        {
          "output_type": "stream",
          "text": [
            "/usr/local/lib/python3.6/dist-packages/gensim/matutils.py:737: FutureWarning: Conversion of the second argument of issubdtype from `int` to `np.signedinteger` is deprecated. In future, it will be treated as `np.int64 == np.dtype(int).type`.\n",
            "  if np.issubdtype(vec.dtype, np.int):\n"
          ],
          "name": "stderr"
        }
      ]
    },
    {
      "cell_type": "code",
      "metadata": {
        "id": "ZUYEiyEgPMoQ",
        "colab_type": "code",
        "colab": {}
      },
      "source": [
        ""
      ],
      "execution_count": null,
      "outputs": []
    }
  ]
}